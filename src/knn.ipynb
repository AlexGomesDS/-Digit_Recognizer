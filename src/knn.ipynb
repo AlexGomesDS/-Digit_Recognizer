{
 "cells": [
  {
   "cell_type": "markdown",
   "metadata": {
    "ExecuteTime": {
     "end_time": "2018-10-28T23:21:51.444373Z",
     "start_time": "2018-10-28T23:21:51.439375Z"
    }
   },
   "source": [
    "# try a nearest neighbor approach"
   ]
  },
  {
   "cell_type": "code",
   "execution_count": 1,
   "metadata": {
    "ExecuteTime": {
     "end_time": "2018-11-13T00:31:09.918944Z",
     "start_time": "2018-11-13T00:31:09.910952Z"
    }
   },
   "outputs": [],
   "source": [
    "# custom function to generate the prediction in the format to submit to kaggle\n",
    "def gen_submission_df(y_pred):\n",
    "    df_pred = pd.DataFrame(y_pred, columns=['Label']).reset_index().rename(columns={'index':'ImageId'})\n",
    "    df_pred.ImageId += 1\n",
    "    return df_pred"
   ]
  },
  {
   "cell_type": "code",
   "execution_count": 2,
   "metadata": {
    "ExecuteTime": {
     "end_time": "2018-11-13T00:31:21.138037Z",
     "start_time": "2018-11-13T00:31:10.081080Z"
    }
   },
   "outputs": [],
   "source": [
    "#import tensorflow as tf\n",
    "import numpy as np\n",
    "import pandas as pd\n",
    "import matplotlib.pyplot as plt\n",
    "import matplotlib.image as mpimg\n",
    "from sklearn.model_selection import train_test_split\n",
    "from sklearn.neighbors import KNeighborsClassifier\n",
    "from sklearn.metrics import accuracy_score"
   ]
  },
  {
   "cell_type": "code",
   "execution_count": 3,
   "metadata": {
    "ExecuteTime": {
     "end_time": "2018-11-13T00:31:24.152109Z",
     "start_time": "2018-11-13T00:31:21.142038Z"
    }
   },
   "outputs": [],
   "source": [
    "df_train = pd.read_csv('../data/train_14x14.csv', index_col=0)\n",
    "df_sub = pd.read_csv('../data/test_14x14.csv', index_col=0)"
   ]
  },
  {
   "cell_type": "code",
   "execution_count": 4,
   "metadata": {
    "ExecuteTime": {
     "end_time": "2018-11-13T00:31:28.568135Z",
     "start_time": "2018-11-13T00:31:24.156111Z"
    }
   },
   "outputs": [
    {
     "data": {
      "image/png": "[encoded data removed]",
      "text/plain": [
       "<Figure size 432x288 with 1 Axes>"
      ]
     },
     "metadata": {
      "needs_background": "light"
     },
     "output_type": "display_data"
    }
   ],
   "source": [
    "im_index = 5\n",
    "first_image = df_train.iloc[30,1:].values.reshape(14,14)\n",
    "plt.imshow(first_image)\n",
    "plt.show()"
   ]
  },
  {
   "cell_type": "code",
   "execution_count": 5,
   "metadata": {
    "ExecuteTime": {
     "end_time": "2018-11-13T00:31:28.796010Z",
     "start_time": "2018-11-13T00:31:28.574130Z"
    }
   },
   "outputs": [
    {
     "name": "stderr",
     "output_type": "stream",
     "text": [
      "C:\\Users\\Alexandre\\Anaconda3\\envs\\ldsa\\lib\\site-packages\\sklearn\\model_selection\\_split.py:2026: FutureWarning: From version 0.21, test_size will always complement train_size unless both are specified.\n",
      "  FutureWarning)\n"
     ]
    }
   ],
   "source": [
    "sample_1k = df_train\n",
    "X, y = sample_1k.drop(columns=['label']), sample_1k.label\n",
    "X_sub = df_sub\n",
    "X_train, X_test, y_train, y_test = train_test_split(X, y, train_size=0.7)"
   ]
  },
  {
   "cell_type": "markdown",
   "metadata": {},
   "source": [
    "# Simple Knn with k=5"
   ]
  },
  {
   "cell_type": "code",
   "execution_count": 6,
   "metadata": {
    "ExecuteTime": {
     "end_time": "2018-11-13T00:33:15.932351Z",
     "start_time": "2018-11-13T00:31:28.798009Z"
    }
   },
   "outputs": [
    {
     "data": {
      "text/plain": [
       "0.9565113879850805"
      ]
     },
     "execution_count": 6,
     "metadata": {},
     "output_type": "execute_result"
    }
   ],
   "source": [
    "knn = KNeighborsClassifier(n_jobs=-1, n_neighbors=5)\n",
    "\n",
    "#training\n",
    "knn.fit(X_train, y_train)\n",
    "\n",
    "#predicting\n",
    "accuracy_score(y_test, knn.predict(X_test))"
   ]
  },
  {
   "cell_type": "code",
   "execution_count": 7,
   "metadata": {
    "ExecuteTime": {
     "end_time": "2018-11-13T00:38:23.958330Z",
     "start_time": "2018-11-13T00:33:15.947344Z"
    },
    "scrolled": true
   },
   "outputs": [],
   "source": [
    "# retrain knn with all the data\n",
    "knn.fit(X, y)\n",
    "knn_pred = knn.predict(X_sub)\n",
    "df_knn_pred = gen_submission_df(knn_pred)"
   ]
  },
  {
   "cell_type": "code",
   "execution_count": 9,
   "metadata": {
    "ExecuteTime": {
     "end_time": "2018-11-13T00:38:56.291966Z",
     "start_time": "2018-11-13T00:38:56.144936Z"
    }
   },
   "outputs": [],
   "source": [
    "df_knn_pred.to_csv('../output/pred_knn_14x14_10k.csv', index=False)"
   ]
  },
  {
   "cell_type": "markdown",
   "metadata": {},
   "source": [
    "# KNN using cosine similarity"
   ]
  },
  {
   "cell_type": "code",
   "execution_count": 8,
   "metadata": {
    "ExecuteTime": {
     "end_time": "2018-11-13T00:38:56.142943Z",
     "start_time": "2018-11-13T00:38:23.963327Z"
    }
   },
   "outputs": [],
   "source": [
    "normalize = lambda row: row/np.sqrt(np.dot(row,row))\n",
    "X_norm = X.apply(normalize, axis = 1)\n",
    "X_train_cos = X_train.apply(normalize, axis = 1)\n",
    "X_test_cos = X_test.apply(normalize, axis = 1)\n",
    "X_sub = df_sub.apply(normalize, axis = 1)"
   ]
  },
  {
   "cell_type": "code",
   "execution_count": 11,
   "metadata": {
    "ExecuteTime": {
     "end_time": "2018-11-13T00:45:22.996728Z",
     "start_time": "2018-11-13T00:43:38.667013Z"
    }
   },
   "outputs": [
    {
     "data": {
      "text/plain": [
       "0.9607174033806841"
      ]
     },
     "execution_count": 11,
     "metadata": {},
     "output_type": "execute_result"
    }
   ],
   "source": [
    "knn_cos = KNeighborsClassifier(n_jobs=-1, n_neighbors=10)\n",
    "\n",
    "#training\n",
    "knn_cos.fit(X_train_cos, y_train)\n",
    "\n",
    "#predicting\n",
    "accuracy_score(y_test, knn_cos.predict(X_test_cos))"
   ]
  },
  {
   "cell_type": "code",
   "execution_count": 10,
   "metadata": {
    "ExecuteTime": {
     "end_time": "2018-11-13T00:43:38.663015Z",
     "start_time": "2018-11-13T00:38:56.293968Z"
    }
   },
   "outputs": [],
   "source": [
    "# retrain knn with all the data\n",
    "knn.fit(X, y)\n",
    "knn_pred = knn.predict(X_sub)\n",
    "df_knn_pred = gen_submission_df(knn_pred)"
   ]
  },
  {
   "cell_type": "code",
   "execution_count": null,
   "metadata": {},
   "outputs": [],
   "source": []
  }
 ],
 "metadata": {
  "kernelspec": {
   "display_name": "Python (other-env)",
   "language": "python",
   "name": "other-env"
  },
  "language_info": {
   "codemirror_mode": {
    "name": "ipython",
    "version": 3
   },
   "file_extension": ".py",
   "mimetype": "text/x-python",
   "name": "python",
   "nbconvert_exporter": "python",
   "pygments_lexer": "ipython3",
   "version": "3.5.5"
  }
 },
 "nbformat": 4,
 "nbformat_minor": 2
}
