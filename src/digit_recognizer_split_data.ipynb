{
 "cells": [
  {
   "cell_type": "code",
   "execution_count": 48,
   "metadata": {
    "colab": {},
    "colab_type": "code",
    "id": "o04cS-BorqDi"
   },
   "outputs": [],
   "source": [
    "import pandas as pd\n",
    "import matplotlib.pyplot as plt\n",
    "import matplotlib.image as mpimg\n",
    "from sklearn.model_selection import train_test_split\n",
    "from sklearn.model_selection import KFold\n",
    "from sklearn.model_selection import LeaveOneOut"
   ]
  },
  {
   "cell_type": "markdown",
   "metadata": {},
   "source": [
    "## 1. About the data"
   ]
  },
  {
   "cell_type": "markdown",
   "metadata": {},
   "source": [
    "### 1.1. Getting Data"
   ]
  },
  {
   "cell_type": "code",
   "execution_count": 49,
   "metadata": {
    "colab": {},
    "colab_type": "code",
    "id": "Iafu8vQLsR4K"
   },
   "outputs": [],
   "source": [
    "#read a sample of 5000 random rows due to the large dataset\n",
    "df_sample_train = pd.read_csv('../input/train.csv').sample(5000)\n",
    "#separate the data from the label\n",
    "X_sample_train, y_sample_train = df_sample_train.drop(columns=['label']), df_sample_train.label"
   ]
  },
  {
   "cell_type": "markdown",
   "metadata": {
    "colab": {
     "base_uri": "https://localhost:8080/",
     "height": 347
    },
    "colab_type": "code",
    "executionInfo": {
     "elapsed": 659,
     "status": "ok",
     "timestamp": 1540247974505,
     "user": {
      "displayName": "Alexandre Gomes",
      "photoUrl": "",
      "userId": "09176347012246310987"
     },
     "user_tz": -60
    },
    "id": "PgZMn2E72p0b",
    "outputId": "25bdea0c-7afa-40c0-a64e-01bdd414ee82"
   },
   "source": [
    "### 1.2. Data Exploration"
   ]
  },
  {
   "cell_type": "code",
   "execution_count": 50,
   "metadata": {},
   "outputs": [
    {
     "data": {
      "image/png": "[encoded data removed]",
      "text/plain": [
       "<Figure size 432x288 with 1 Axes>"
      ]
     },
     "metadata": {},
     "output_type": "display_data"
    },
    {
     "data": {
      "text/plain": [
       "1    11.18\n",
       "2    10.70\n",
       "3    10.34\n",
       "7    10.12\n",
       "0    10.12\n",
       "8    10.00\n",
       "6     9.92\n",
       "4     9.74\n",
       "9     9.56\n",
       "5     8.32\n",
       "Name: label, dtype: float64"
      ]
     },
     "execution_count": 50,
     "metadata": {},
     "output_type": "execute_result"
    }
   ],
   "source": [
    "#plot one of the rows of the dataset\n",
    "im_index = 5\n",
    "first_image = X_sample_train.iloc[29].values.reshape(28,28)\n",
    "plt.imshow(first_image)\n",
    "plt.show()\n",
    "\n",
    "#class distribution for the data set (percentage of total)\n",
    "y_sample_train.value_counts(normalize=True, sort = True).apply(lambda x: x*100)"
   ]
  },
  {
   "cell_type": "markdown",
   "metadata": {
    "colab": {},
    "colab_type": "code",
    "id": "JEOh0G6woA_P"
   },
   "source": [
    "## 2. Model Selection"
   ]
  },
  {
   "cell_type": "markdown",
   "metadata": {},
   "source": [
    "### 2.1. Split into train and test set (60/40)"
   ]
  },
  {
   "cell_type": "markdown",
   "metadata": {},
   "source": [
    "#### Split the data set"
   ]
  },
  {
   "cell_type": "code",
   "execution_count": 51,
   "metadata": {},
   "outputs": [
    {
     "name": "stdout",
     "output_type": "stream",
     "text": [
      "Size of training set:  (3000, 784) \n",
      "Size of test set:  (2000, 784)\n"
     ]
    }
   ],
   "source": [
    "X_train, X_test, y_train, y_test = train_test_split(X_sample_train, y_sample_train, test_size=0.4)\n",
    "print(\"Size of training set: \", X_train.shape, \"\\nSize of test set: \", X_test.shape)"
   ]
  },
  {
   "cell_type": "markdown",
   "metadata": {},
   "source": [
    "#### Class Distribution"
   ]
  },
  {
   "cell_type": "code",
   "execution_count": 52,
   "metadata": {
    "scrolled": true
   },
   "outputs": [
    {
     "name": "stdout",
     "output_type": "stream",
     "text": [
      "Class distribution in the original training set:\n",
      " 1    11.18\n",
      "2    10.70\n",
      "3    10.34\n",
      "7    10.12\n",
      "0    10.12\n",
      "8    10.00\n",
      "6     9.92\n",
      "4     9.74\n",
      "9     9.56\n",
      "5     8.32\n",
      "Name: label, dtype: float64\n",
      "\n",
      "Class distribution in the splitted training set:\n",
      " 1    11.466667\n",
      "7    10.400000\n",
      "2    10.400000\n",
      "4    10.233333\n",
      "6    10.133333\n",
      "3    10.100000\n",
      "0    10.066667\n",
      "8     9.933333\n",
      "9     8.766667\n",
      "5     8.500000\n",
      "Name: label, dtype: float64\n"
     ]
    }
   ],
   "source": [
    "#original data set\n",
    "print(\"Class distribution in the original training set:\\n\", y_sample_train.value_counts(normalize=True, sort = True)\n",
    "      .apply(lambda x: x*100))\n",
    "print()\n",
    "\n",
    "#splitted training set\n",
    "print(\"Class distribution in the splitted training set:\\n\", y_train.value_counts(normalize=True, sort = True)\n",
    "      .apply(lambda x: x*100))"
   ]
  },
  {
   "cell_type": "markdown",
   "metadata": {},
   "source": [
    "### 2.2. Stratified split into train and test set (60/40)"
   ]
  },
  {
   "cell_type": "markdown",
   "metadata": {},
   "source": [
    "#### Split the data set"
   ]
  },
  {
   "cell_type": "code",
   "execution_count": 57,
   "metadata": {},
   "outputs": [],
   "source": [
    "X_train_strat, X_test_strat, y_train_strat, y_test_strat = train_test_split(X_sample_train, y_sample_train, test_size=0.4,\n",
    "                                                                            stratify = y_sample_train)"
   ]
  },
  {
   "cell_type": "markdown",
   "metadata": {},
   "source": [
    "#### Class Distribution"
   ]
  },
  {
   "cell_type": "code",
   "execution_count": 58,
   "metadata": {},
   "outputs": [
    {
     "name": "stdout",
     "output_type": "stream",
     "text": [
      "Stratified class distribution\n",
      " 1    11.166667\n",
      "2    10.700000\n",
      "3    10.333333\n",
      "7    10.133333\n",
      "0    10.133333\n",
      "8    10.000000\n",
      "6     9.933333\n",
      "4     9.733333\n",
      "9     9.566667\n",
      "5     8.300000\n",
      "Name: label, dtype: float64\n"
     ]
    }
   ],
   "source": [
    "print(\"Stratified class distribution\\n\", y_train_strat.value_counts(normalize=True, sort = True).apply(lambda x: x*100))\n"
   ]
  },
  {
   "cell_type": "markdown",
   "metadata": {},
   "source": [
    "## 2.3 Cross Validation"
   ]
  },
  {
   "cell_type": "markdown",
   "metadata": {},
   "source": [
    "#### K-fold Cross-validation"
   ]
  },
  {
   "cell_type": "code",
   "execution_count": 59,
   "metadata": {},
   "outputs": [
    {
     "name": "stdout",
     "output_type": "stream",
     "text": [
      "4000 1000\n",
      "4000 1000\n",
      "4000 1000\n",
      "4000 1000\n",
      "4000 1000\n"
     ]
    }
   ],
   "source": [
    "#split the data set into 5 folds\n",
    "kf = KFold(n_splits=5)\n",
    "kf_set = kf.split(X_sample_train, y_sample_train)\n",
    "\n",
    "#check the size of train and test set and, the number of partitions\n",
    "for train, test in kf_set:\n",
    "    print(train.size, test.size)"
   ]
  },
  {
   "cell_type": "markdown",
   "metadata": {},
   "source": [
    "#### Leave One Out (LOO) Cross-validation"
   ]
  },
  {
   "cell_type": "code",
   "execution_count": 60,
   "metadata": {},
   "outputs": [],
   "source": [
    "loo = LeaveOneOut()\n",
    "loo_set = loo.split(X_sample_train, y_sample_train)\n"
   ]
  },
  {
   "cell_type": "code",
   "execution_count": null,
   "metadata": {},
   "outputs": [],
   "source": []
  }
 ],
 "metadata": {
  "colab": {
   "collapsed_sections": [],
   "name": "digit_recognizer.ipynb",
   "provenance": [],
   "version": "0.3.2"
  },
  "kernelspec": {
   "display_name": "Python (other-env)",
   "language": "python",
   "name": "other-env"
  },
  "language_info": {
   "codemirror_mode": {
    "name": "ipython",
    "version": 3
   },
   "file_extension": ".py",
   "mimetype": "text/x-python",
   "name": "python",
   "nbconvert_exporter": "python",
   "pygments_lexer": "ipython3",
   "version": "3.5.5"
  }
 },
 "nbformat": 4,
 "nbformat_minor": 1
}
