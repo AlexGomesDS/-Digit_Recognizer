{
 "cells": [
  {
   "cell_type": "markdown",
   "metadata": {},
   "source": [
    "checkout this kaggle kernel: https://www.kaggle.com/kernels/notebooks/new?forkParentScriptVersionId=470167&userName=alexgomes3"
   ]
  },
  {
   "cell_type": "markdown",
   "metadata": {},
   "source": [
    "---\n",
    "# Google colab"
   ]
  },
  {
   "cell_type": "code",
   "execution_count": 0,
   "metadata": {
    "colab": {},
    "colab_type": "code",
    "id": "WDOjf3ItzCU4"
   },
   "outputs": [],
   "source": [
    "  # Code to download the datasets (run only if dataset not found)\n",
    "!mkdir input\n",
    "!pip install -U -q PyDrive\n",
    "from pydrive.auth import GoogleAuth\n",
    "from pydrive.drive import GoogleDrive\n",
    "from google.colab import auth\n",
    "from oauth2client.client import GoogleCredentials\n",
    "auth.authenticate_user()\n",
    "gauth = GoogleAuth()\n",
    "gauth.credentials = GoogleCredentials.get_application_default()\n",
    "drive = GoogleDrive(gauth)\n",
    "\n",
    "test_downloaded = drive.CreateFile({'id': '1xBuctuuZBBvIjQmH0sg49Dx17CC1T2px'})\n",
    "train_downloaded = drive.CreateFile({'id': '1aFyHjN9XXs051r_s1ydCfyq_5DWiCefJ'})\n",
    "content_train = train_downloaded.GetContentFile(\"input/train.csv\")\n",
    "content_test = test_downloaded.GetContentFile(\"input/test.csv\")"
   ]
  },
  {
   "cell_type": "markdown",
   "metadata": {},
   "source": [
    "---"
   ]
  },
  {
   "cell_type": "code",
   "execution_count": 1,
   "metadata": {
    "ExecuteTime": {
     "end_time": "2018-10-25T23:44:25.419993Z",
     "start_time": "2018-10-25T23:44:23.952681Z"
    },
    "colab": {},
    "colab_type": "code",
    "id": "o04cS-BorqDi"
   },
   "outputs": [],
   "source": [
    "#import tensorflow as tf\n",
    "import pandas as pd\n",
    "import matplotlib.pyplot as plt\n",
    "import matplotlib.image as mpimg\n",
    "from sklearn.model_selection import train_test_split\n",
    "from sklearn.linear_model import LogisticRegression\n",
    "from sklearn.svm import SVC\n",
    "from sklearn.cluster import KMeans\n",
    "from sklearn.metrics import accuracy_score"
   ]
  },
  {
   "cell_type": "code",
   "execution_count": null,
   "metadata": {},
   "outputs": [],
   "source": [
    "from sklearn.cluster import KMeans"
   ]
  },
  {
   "cell_type": "markdown",
   "metadata": {},
   "source": [
    "# Using original images"
   ]
  },
  {
   "cell_type": "code",
   "execution_count": 2,
   "metadata": {
    "ExecuteTime": {
     "end_time": "2018-10-25T23:44:30.873155Z",
     "start_time": "2018-10-25T23:44:25.422990Z"
    }
   },
   "outputs": [],
   "source": [
    "df_train = pd.read_csv('../input/train.csv')"
   ]
  },
  {
   "cell_type": "code",
   "execution_count": 3,
   "metadata": {
    "ExecuteTime": {
     "end_time": "2018-10-25T23:44:31.120052Z",
     "start_time": "2018-10-25T23:44:30.878153Z"
    },
    "colab": {
     "base_uri": "https://localhost:8080/",
     "height": 347
    },
    "colab_type": "code",
    "executionInfo": {
     "elapsed": 659,
     "status": "ok",
     "timestamp": 1540247974505,
     "user": {
      "displayName": "Alexandre Gomes",
      "photoUrl": "",
      "userId": "09176347012246310987"
     },
     "user_tz": -60
    },
    "id": "PgZMn2E72p0b",
    "outputId": "25bdea0c-7afa-40c0-a64e-01bdd414ee82"
   },
   "outputs": [
    {
     "data": {
      "image/png": "[encoded data removed]",
      "text/plain": [
       "<Figure size 432x288 with 1 Axes>"
      ]
     },
     "metadata": {
      "needs_background": "light"
     },
     "output_type": "display_data"
    }
   ],
   "source": [
    "im_index = 5\n",
    "first_image = df_train.iloc[25,1:].values.reshape(28,28)\n",
    "plt.imshow(first_image)\n",
    "plt.show()"
   ]
  },
  {
   "cell_type": "markdown",
   "metadata": {},
   "source": [
    "# sample with 1k images"
   ]
  },
  {
   "cell_type": "code",
   "execution_count": 8,
   "metadata": {
    "ExecuteTime": {
     "end_time": "2018-10-25T23:35:38.017806Z",
     "start_time": "2018-10-25T23:35:37.977828Z"
    },
    "colab": {},
    "colab_type": "code",
    "id": "Iafu8vQLsR4K",
    "scrolled": true
   },
   "outputs": [
    {
     "name": "stderr",
     "output_type": "stream",
     "text": [
      "C:\\Users\\Alexandre\\Anaconda3\\envs\\ldsa\\lib\\site-packages\\sklearn\\model_selection\\_split.py:2026: FutureWarning: From version 0.21, test_size will always complement train_size unless both are specified.\n",
      "  FutureWarning)\n"
     ]
    }
   ],
   "source": [
    "sample_1k = df_train.sample(1000)\n",
    "X, y = sample_1k.drop(columns=['label']), sample_1k.label\n",
    "\n",
    "X_train_1k, X_test_1k, y_train_1k, y_test_1k = train_test_split(X, y, train_size=0.7)"
   ]
  },
  {
   "cell_type": "markdown",
   "metadata": {},
   "source": [
    "# Log regression"
   ]
  },
  {
   "cell_type": "code",
   "execution_count": 6,
   "metadata": {
    "ExecuteTime": {
     "end_time": "2018-10-25T23:35:26.993213Z",
     "start_time": "2018-10-25T23:35:26.989216Z"
    },
    "colab": {},
    "colab_type": "code",
    "id": "gOaJLIhbUlEU"
   },
   "outputs": [],
   "source": [
    "lr_1k = LogisticRegression()"
   ]
  },
  {
   "cell_type": "code",
   "execution_count": 11,
   "metadata": {
    "ExecuteTime": {
     "end_time": "2018-10-25T23:36:09.659099Z",
     "start_time": "2018-10-25T23:36:09.262344Z"
    },
    "colab": {
     "base_uri": "https://localhost:8080/",
     "height": 88
    },
    "colab_type": "code",
    "executionInfo": {
     "elapsed": 2258800,
     "status": "ok",
     "timestamp": 1540250440315,
     "user": {
      "displayName": "Alexandre Gomes",
      "photoUrl": "",
      "userId": "09176347012246310987"
     },
     "user_tz": -60
    },
    "id": "KALmSnqUUoEr",
    "outputId": "9655a3b7-1de4-4b90-e08b-e043ae0a2128"
   },
   "outputs": [
    {
     "data": {
      "text/plain": [
       "LogisticRegression(C=1.0, class_weight=None, dual=False, fit_intercept=True,\n",
       "          intercept_scaling=1, max_iter=100, multi_class='ovr', n_jobs=1,\n",
       "          penalty='l2', random_state=None, solver='liblinear', tol=0.0001,\n",
       "          verbose=0, warm_start=False)"
      ]
     },
     "execution_count": 11,
     "metadata": {},
     "output_type": "execute_result"
    }
   ],
   "source": [
    "lr_1k.fit(X_train_1k, y_train_1k)"
   ]
  },
  {
   "cell_type": "code",
   "execution_count": 28,
   "metadata": {
    "ExecuteTime": {
     "end_time": "2018-10-25T23:41:34.315646Z",
     "start_time": "2018-10-25T23:41:34.301654Z"
    },
    "colab": {
     "base_uri": "https://localhost:8080/",
     "height": 34
    },
    "colab_type": "code",
    "executionInfo": {
     "elapsed": 2959,
     "status": "ok",
     "timestamp": 1540247891933,
     "user": {
      "displayName": "Alexandre Gomes",
      "photoUrl": "",
      "userId": "09176347012246310987"
     },
     "user_tz": -60
    },
    "id": "AMJZgJU3ZArg",
    "outputId": "20e8b9c7-5cd6-47d5-cb63-38443be8d246"
   },
   "outputs": [
    {
     "data": {
      "text/plain": [
       "0.8166666666666667"
      ]
     },
     "execution_count": 28,
     "metadata": {},
     "output_type": "execute_result"
    }
   ],
   "source": [
    "#predicting\n",
    "pred_lr_1k = lr_1k.predict(X_test_1k)\n",
    "accuracy_score(y_test_1k, pred_lr_1k)"
   ]
  },
  {
   "cell_type": "markdown",
   "metadata": {
    "colab": {},
    "colab_type": "code",
    "id": "JEOh0G6woA_P"
   },
   "source": [
    "# SVM"
   ]
  },
  {
   "cell_type": "code",
   "execution_count": 31,
   "metadata": {
    "ExecuteTime": {
     "end_time": "2018-10-25T23:42:01.573369Z",
     "start_time": "2018-10-25T23:42:00.559993Z"
    }
   },
   "outputs": [
    {
     "data": {
      "text/plain": [
       "SVC(C=0.01, cache_size=200, class_weight=None, coef0=0.0,\n",
       "  decision_function_shape='ovr', degree=3, gamma='auto', kernel='rbf',\n",
       "  max_iter=-1, probability=False, random_state=None, shrinking=True,\n",
       "  tol=0.001, verbose=False)"
      ]
     },
     "execution_count": 31,
     "metadata": {},
     "output_type": "execute_result"
    }
   ],
   "source": [
    "svm_1k = SVC(C=0.01)\n",
    "\n",
    "#training\n",
    "svm_1k.fit(X_train_1k, y_train_1k)"
   ]
  },
  {
   "cell_type": "code",
   "execution_count": 33,
   "metadata": {
    "ExecuteTime": {
     "end_time": "2018-10-25T23:42:27.090004Z",
     "start_time": "2018-10-25T23:42:26.842096Z"
    }
   },
   "outputs": [
    {
     "data": {
      "text/plain": [
       "0.11333333333333333"
      ]
     },
     "execution_count": 33,
     "metadata": {},
     "output_type": "execute_result"
    }
   ],
   "source": [
    "#predicting\n",
    "accuracy_score(y_test_1k, svm_1k.predict(X_test_1k))"
   ]
  },
  {
   "cell_type": "markdown",
   "metadata": {},
   "source": [
    "# KNN"
   ]
  },
  {
   "cell_type": "code",
   "execution_count": 36,
   "metadata": {
    "ExecuteTime": {
     "end_time": "2018-10-25T23:43:14.027845Z",
     "start_time": "2018-10-25T23:43:12.856239Z"
    }
   },
   "outputs": [
    {
     "data": {
      "text/plain": [
       "KMeans(algorithm='auto', copy_x=True, init='k-means++', max_iter=300,\n",
       "    n_clusters=10, n_init=10, n_jobs=1, precompute_distances='auto',\n",
       "    random_state=None, tol=0.0001, verbose=0)"
      ]
     },
     "execution_count": 36,
     "metadata": {},
     "output_type": "execute_result"
    }
   ],
   "source": [
    "knn_1k = KMeans(n_clusters=10)\n",
    "\n",
    "#training\n",
    "knn_1k.fit(X_train_1k, y_train_1k)"
   ]
  },
  {
   "cell_type": "code",
   "execution_count": 37,
   "metadata": {
    "ExecuteTime": {
     "end_time": "2018-10-25T23:43:14.050830Z",
     "start_time": "2018-10-25T23:43:14.033840Z"
    }
   },
   "outputs": [
    {
     "data": {
      "text/plain": [
       "0.12666666666666668"
      ]
     },
     "execution_count": 37,
     "metadata": {},
     "output_type": "execute_result"
    }
   ],
   "source": [
    "#predicting\n",
    "accuracy_score(y_test_1k, knn_1k.predict(X_test_1k))"
   ]
  },
  {
   "cell_type": "code",
   "execution_count": null,
   "metadata": {},
   "outputs": [],
   "source": []
  },
  {
   "cell_type": "markdown",
   "metadata": {},
   "source": [
    "# sample with 5k images"
   ]
  },
  {
   "cell_type": "code",
   "execution_count": 8,
   "metadata": {
    "ExecuteTime": {
     "end_time": "2018-10-25T23:45:11.557251Z",
     "start_time": "2018-10-25T23:45:11.431328Z"
    },
    "colab": {},
    "colab_type": "code",
    "id": "Iafu8vQLsR4K",
    "scrolled": true
   },
   "outputs": [
    {
     "name": "stderr",
     "output_type": "stream",
     "text": [
      "C:\\Users\\Alexandre\\Anaconda3\\envs\\ldsa\\lib\\site-packages\\sklearn\\model_selection\\_split.py:2026: FutureWarning: From version 0.21, test_size will always complement train_size unless both are specified.\n",
      "  FutureWarning)\n"
     ]
    }
   ],
   "source": [
    "sample_5k = df_train.sample(5000)\n",
    "X, y = sample_5k.drop(columns=['label']), sample_5k.label\n",
    "\n",
    "X_train_5k, X_test_5k, y_train_5k, y_test_5k = train_test_split(X, y, train_size=0.7)"
   ]
  },
  {
   "cell_type": "markdown",
   "metadata": {},
   "source": [
    "# Log regression"
   ]
  },
  {
   "cell_type": "code",
   "execution_count": 9,
   "metadata": {
    "ExecuteTime": {
     "end_time": "2018-10-25T23:45:14.502443Z",
     "start_time": "2018-10-25T23:45:14.499442Z"
    },
    "colab": {},
    "colab_type": "code",
    "id": "gOaJLIhbUlEU"
   },
   "outputs": [],
   "source": [
    "lr_5k = LogisticRegression()"
   ]
  },
  {
   "cell_type": "code",
   "execution_count": 10,
   "metadata": {
    "ExecuteTime": {
     "end_time": "2018-10-25T23:45:38.806065Z",
     "start_time": "2018-10-25T23:45:23.634387Z"
    },
    "colab": {
     "base_uri": "https://localhost:8080/",
     "height": 88
    },
    "colab_type": "code",
    "executionInfo": {
     "elapsed": 2258800,
     "status": "ok",
     "timestamp": 1540250440315,
     "user": {
      "displayName": "Alexandre Gomes",
      "photoUrl": "",
      "userId": "09176347012246310987"
     },
     "user_tz": -60
    },
    "id": "KALmSnqUUoEr",
    "outputId": "9655a3b7-1de4-4b90-e08b-e043ae0a2128"
   },
   "outputs": [
    {
     "data": {
      "text/plain": [
       "LogisticRegression(C=1.0, class_weight=None, dual=False, fit_intercept=True,\n",
       "          intercept_scaling=1, max_iter=100, multi_class='ovr', n_jobs=1,\n",
       "          penalty='l2', random_state=None, solver='liblinear', tol=0.0001,\n",
       "          verbose=0, warm_start=False)"
      ]
     },
     "execution_count": 10,
     "metadata": {},
     "output_type": "execute_result"
    }
   ],
   "source": [
    "lr_5k.fit(X_train_5k, y_train_5k)"
   ]
  },
  {
   "cell_type": "code",
   "execution_count": 13,
   "metadata": {
    "ExecuteTime": {
     "end_time": "2018-10-25T23:45:59.744439Z",
     "start_time": "2018-10-25T23:45:59.727448Z"
    },
    "colab": {
     "base_uri": "https://localhost:8080/",
     "height": 34
    },
    "colab_type": "code",
    "executionInfo": {
     "elapsed": 2959,
     "status": "ok",
     "timestamp": 1540247891933,
     "user": {
      "displayName": "Alexandre Gomes",
      "photoUrl": "",
      "userId": "09176347012246310987"
     },
     "user_tz": -60
    },
    "id": "AMJZgJU3ZArg",
    "outputId": "20e8b9c7-5cd6-47d5-cb63-38443be8d246"
   },
   "outputs": [
    {
     "data": {
      "text/plain": [
       "0.82"
      ]
     },
     "execution_count": 13,
     "metadata": {},
     "output_type": "execute_result"
    }
   ],
   "source": [
    "#predicting\n",
    "accuracy_score(y_test_5k, lr_5k.predict(X_test_5k))"
   ]
  },
  {
   "cell_type": "markdown",
   "metadata": {
    "colab": {},
    "colab_type": "code",
    "id": "JEOh0G6woA_P"
   },
   "source": [
    "# SVM"
   ]
  },
  {
   "cell_type": "code",
   "execution_count": 14,
   "metadata": {
    "ExecuteTime": {
     "end_time": "2018-10-25T23:46:45.148466Z",
     "start_time": "2018-10-25T23:46:17.891103Z"
    }
   },
   "outputs": [
    {
     "data": {
      "text/plain": [
       "SVC(C=0.01, cache_size=200, class_weight=None, coef0=0.0,\n",
       "  decision_function_shape='ovr', degree=3, gamma='auto', kernel='rbf',\n",
       "  max_iter=-1, probability=False, random_state=None, shrinking=True,\n",
       "  tol=0.001, verbose=False)"
      ]
     },
     "execution_count": 14,
     "metadata": {},
     "output_type": "execute_result"
    }
   ],
   "source": [
    "svm_5k = SVC(C=0.01)\n",
    "\n",
    "#training\n",
    "svm_5k.fit(X_train_5k, y_train_5k)"
   ]
  },
  {
   "cell_type": "code",
   "execution_count": 15,
   "metadata": {
    "ExecuteTime": {
     "end_time": "2018-10-25T23:46:51.099848Z",
     "start_time": "2018-10-25T23:46:45.153463Z"
    }
   },
   "outputs": [
    {
     "data": {
      "text/plain": [
       "0.12866666666666668"
      ]
     },
     "execution_count": 15,
     "metadata": {},
     "output_type": "execute_result"
    }
   ],
   "source": [
    "#predicting\n",
    "accuracy_score(y_test_5k, svm_5k.predict(X_test_5k))"
   ]
  },
  {
   "cell_type": "markdown",
   "metadata": {},
   "source": [
    "# KNN"
   ]
  },
  {
   "cell_type": "code",
   "execution_count": 16,
   "metadata": {
    "ExecuteTime": {
     "end_time": "2018-10-25T23:47:19.217931Z",
     "start_time": "2018-10-25T23:47:13.104176Z"
    }
   },
   "outputs": [
    {
     "data": {
      "text/plain": [
       "KMeans(algorithm='auto', copy_x=True, init='k-means++', max_iter=300,\n",
       "    n_clusters=10, n_init=10, n_jobs=1, precompute_distances='auto',\n",
       "    random_state=None, tol=0.0001, verbose=0)"
      ]
     },
     "execution_count": 16,
     "metadata": {},
     "output_type": "execute_result"
    }
   ],
   "source": [
    "knn_5k = KMeans(n_clusters=10)\n",
    "\n",
    "#training\n",
    "knn_5k.fit(X_train_5k, y_train_5k)"
   ]
  },
  {
   "cell_type": "code",
   "execution_count": 17,
   "metadata": {
    "ExecuteTime": {
     "end_time": "2018-10-25T23:47:19.278894Z",
     "start_time": "2018-10-25T23:47:19.222928Z"
    },
    "scrolled": true
   },
   "outputs": [
    {
     "data": {
      "text/plain": [
       "0.202"
      ]
     },
     "execution_count": 17,
     "metadata": {},
     "output_type": "execute_result"
    }
   ],
   "source": [
    "#predicting\n",
    "accuracy_score(y_test_5k, knn_5k.predict(X_test_5k))"
   ]
  }
 ],
 "metadata": {
  "colab": {
   "collapsed_sections": [],
   "name": "digit_recognizer.ipynb",
   "provenance": [],
   "version": "0.3.2"
  },
  "kernelspec": {
   "display_name": "Python (other-env)",
   "language": "python",
   "name": "other-env"
  },
  "language_info": {
   "codemirror_mode": {
    "name": "ipython",
    "version": 3
   },
   "file_extension": ".py",
   "mimetype": "text/x-python",
   "name": "python",
   "nbconvert_exporter": "python",
   "pygments_lexer": "ipython3",
   "version": "3.5.5"
  }
 },
 "nbformat": 4,
 "nbformat_minor": 1
}
